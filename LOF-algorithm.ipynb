{
 "cells": [
  {
   "cell_type": "markdown",
   "metadata": {},
   "source": [
    "# Outlier detection with LOF"
   ]
  },
  {
   "cell_type": "markdown",
   "metadata": {},
   "source": [
    "Based on the clickstream event frequency pattern in Q2Q3_input.csv, apply LOF algorithm to\n",
    "calculate LOF for each point with the following initial settings:\n",
    "1. Set k = 2 and use Manhattan distance. 2. Set k = 3 and use Euclidean distance.\n",
    "You need to:\n",
    "1. Report top 5 outliers and their for 1 & 2 in A3_itsc_stuid_answer.pdf.\n",
    "2. Submit your source code A3_itsc_stuid_Q3.xxx in a zip file named as\n",
    "A3_itsc_stuid_code.zip.\n",
    "Notes:\n",
    "1. Use the corrected formula in the lecture notes.\n",
    "2. You MUST code by yourself to complete the LOF algorithm. e.g. You can only use the basic\n",
    "packages in Python, like numpy, scipy, math, and pandas. Using sklearn is not allowed for Q3."
   ]
  },
  {
   "cell_type": "code",
   "execution_count": 11,
   "metadata": {},
   "outputs": [
    {
     "name": "stdout",
     "output_type": "stream",
     "text": [
      "Populating the interactive namespace from numpy and matplotlib\n"
     ]
    }
   ],
   "source": [
    "#python 2.7\n",
    "%matplotlib inline\n",
    "%pylab inline\n",
    "import pandas as pd\n",
    "import numpy as np\n",
    "import seaborn as sns\n",
    "from scipy.spatial.distance import pdist, squareform"
   ]
  },
  {
   "cell_type": "code",
   "execution_count": 12,
   "metadata": {
    "collapsed": true
   },
   "outputs": [],
   "source": [
    "data_input = pd.read_csv('.data/Q2Q3_input.csv')"
   ]
  },
  {
   "cell_type": "code",
   "execution_count": 13,
   "metadata": {},
   "outputs": [
    {
     "data": {
      "text/html": [
       "<div>\n",
       "<style>\n",
       "    .dataframe thead tr:only-child th {\n",
       "        text-align: right;\n",
       "    }\n",
       "\n",
       "    .dataframe thead th {\n",
       "        text-align: left;\n",
       "    }\n",
       "\n",
       "    .dataframe tbody tr th {\n",
       "        vertical-align: top;\n",
       "    }\n",
       "</style>\n",
       "<table border=\"1\" class=\"dataframe\">\n",
       "  <thead>\n",
       "    <tr style=\"text-align: right;\">\n",
       "      <th></th>\n",
       "      <th>user_id</th>\n",
       "      <th>load_video</th>\n",
       "      <th>pause_video</th>\n",
       "      <th>play_video</th>\n",
       "      <th>seek_video</th>\n",
       "      <th>speed_change_video</th>\n",
       "      <th>stop_video</th>\n",
       "    </tr>\n",
       "  </thead>\n",
       "  <tbody>\n",
       "    <tr>\n",
       "      <th>0</th>\n",
       "      <td>0</td>\n",
       "      <td>2.0</td>\n",
       "      <td>1.0</td>\n",
       "      <td>4.0</td>\n",
       "      <td>1.0</td>\n",
       "      <td>0.0</td>\n",
       "      <td>1.0</td>\n",
       "    </tr>\n",
       "    <tr>\n",
       "      <th>1</th>\n",
       "      <td>1</td>\n",
       "      <td>6.0</td>\n",
       "      <td>14.0</td>\n",
       "      <td>14.0</td>\n",
       "      <td>0.0</td>\n",
       "      <td>0.0</td>\n",
       "      <td>1.0</td>\n",
       "    </tr>\n",
       "    <tr>\n",
       "      <th>2</th>\n",
       "      <td>2</td>\n",
       "      <td>1.0</td>\n",
       "      <td>0.0</td>\n",
       "      <td>0.0</td>\n",
       "      <td>0.0</td>\n",
       "      <td>0.0</td>\n",
       "      <td>0.0</td>\n",
       "    </tr>\n",
       "    <tr>\n",
       "      <th>3</th>\n",
       "      <td>3</td>\n",
       "      <td>2.0</td>\n",
       "      <td>2.0</td>\n",
       "      <td>2.0</td>\n",
       "      <td>0.0</td>\n",
       "      <td>0.0</td>\n",
       "      <td>1.0</td>\n",
       "    </tr>\n",
       "    <tr>\n",
       "      <th>4</th>\n",
       "      <td>4</td>\n",
       "      <td>1.0</td>\n",
       "      <td>3.0</td>\n",
       "      <td>22.0</td>\n",
       "      <td>18.0</td>\n",
       "      <td>0.0</td>\n",
       "      <td>0.0</td>\n",
       "    </tr>\n",
       "  </tbody>\n",
       "</table>\n",
       "</div>"
      ],
      "text/plain": [
       "   user_id  load_video  pause_video  play_video  seek_video  \\\n",
       "0        0         2.0          1.0         4.0         1.0   \n",
       "1        1         6.0         14.0        14.0         0.0   \n",
       "2        2         1.0          0.0         0.0         0.0   \n",
       "3        3         2.0          2.0         2.0         0.0   \n",
       "4        4         1.0          3.0        22.0        18.0   \n",
       "\n",
       "   speed_change_video  stop_video  \n",
       "0                 0.0         1.0  \n",
       "1                 0.0         1.0  \n",
       "2                 0.0         0.0  \n",
       "3                 0.0         1.0  \n",
       "4                 0.0         0.0  "
      ]
     },
     "execution_count": 13,
     "metadata": {},
     "output_type": "execute_result"
    }
   ],
   "source": [
    "data_input.head()"
   ]
  },
  {
   "cell_type": "code",
   "execution_count": 14,
   "metadata": {
    "collapsed": true
   },
   "outputs": [],
   "source": [
    "#Reachdist function\n",
    "def reachdist(distance_df, observation, index):\n",
    "    return distance_df[observation][index]"
   ]
  },
  {
   "cell_type": "code",
   "execution_count": 15,
   "metadata": {
    "collapsed": true
   },
   "outputs": [],
   "source": [
    "#LOF algorithm implementation from scratch\n",
    "def LOF_algorithm(data_input, distance_metric = \"cityblock\", p = 5):\n",
    "    distances = pdist(data_input.values, metric=distance_metric)\n",
    "    dist_matrix = squareform(distances)\n",
    "    distance_df = pd.DataFrame(dist_matrix)\n",
    "    \n",
    "    k = 2 if distance_metric == \"cityblock\" else 3 \n",
    "    observations = distance_df.columns\n",
    "    lrd_dict = {}\n",
    "    n_dist_index = {}\n",
    "    reach_array_dict = {}\n",
    "    \n",
    "    for observation in observations:\n",
    "        dist = distance_df[observation].nsmallest(k+1).iloc[k]\n",
    "        indexes = distance_df[distance_df[observation] <= dist].drop(observation).index\n",
    "        n_dist_index[observation] = indexes\n",
    "    \n",
    "        reach_dist_array = []\n",
    "        for index in indexes:\n",
    "            #make a function reachdist(observation, index)\n",
    "            dist_between_observation_and_index = reachdist(distance_df, observation, index)\n",
    "            dist_index =  distance_df[index].nsmallest(k+1).iloc[k]\n",
    "            reach_dist = max(dist_index, dist_between_observation_and_index)\n",
    "            reach_dist_array.append(reach_dist)\n",
    "        lrd_observation = len(indexes)/sum(reach_dist_array)\n",
    "        reach_array_dict[observation] = reach_dist_array\n",
    "        lrd_dict[observation] = lrd_observation\n",
    "        \n",
    "    #Calculate LOF\n",
    "    LOF_dict = {}\n",
    "    for observation in observations:\n",
    "        lrd_array = []\n",
    "        for index in n_dist_index[observation]:\n",
    "            lrd_array.append(lrd_dict[index])\n",
    "        LOF = sum(lrd_array)*sum(reach_array_dict[observation])/np.square(len(n_dist_index[observation]))\n",
    "        LOF_dict[observation] = LOF\n",
    "\n",
    "    return sorted(LOF_dict.items(), key=lambda x: x[1], reverse=True)[:p]"
   ]
  },
  {
   "cell_type": "code",
   "execution_count": 16,
   "metadata": {},
   "outputs": [
    {
     "data": {
      "text/plain": [
       "[(19, 11.07),\n",
       " (525, 8.8672286617492091),\n",
       " (66, 5.0267857142857144),\n",
       " (638, 4.3347272196829723),\n",
       " (177, 3.6292633292633294)]"
      ]
     },
     "execution_count": 16,
     "metadata": {},
     "output_type": "execute_result"
    }
   ],
   "source": [
    "LOF_algorithm(data_input, p = 5)"
   ]
  },
  {
   "cell_type": "code",
   "execution_count": 17,
   "metadata": {},
   "outputs": [
    {
     "data": {
      "text/plain": [
       "[(638, 3.0800716645705695),\n",
       " (525, 3.0103162562616288),\n",
       " (19, 2.8402916620868903),\n",
       " (66, 2.8014102661691211),\n",
       " (65, 2.6456528412196416)]"
      ]
     },
     "execution_count": 17,
     "metadata": {},
     "output_type": "execute_result"
    }
   ],
   "source": [
    "LOF_algorithm(data_input, p = 5, distance_metric = 'euclidean')"
   ]
  }
 ],
 "metadata": {
  "kernelspec": {
   "display_name": "Python 2",
   "language": "python",
   "name": "python2"
  },
  "language_info": {
   "codemirror_mode": {
    "name": "ipython",
    "version": 2
   },
   "file_extension": ".py",
   "mimetype": "text/x-python",
   "name": "python",
   "nbconvert_exporter": "python",
   "pygments_lexer": "ipython2",
   "version": "2.7.13"
  }
 },
 "nbformat": 4,
 "nbformat_minor": 2
}
