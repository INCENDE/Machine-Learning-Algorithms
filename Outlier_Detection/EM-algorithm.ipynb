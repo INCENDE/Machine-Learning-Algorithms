{
 "cells": [
  {
   "cell_type": "markdown",
   "metadata": {},
   "source": [
    "# Fuzzy clustering with EM algorithm "
   ]
  },
  {
   "cell_type": "markdown",
   "metadata": {},
   "source": [
    "Based on the clickstream event frequency pattern in Q2Q3_input.csv for a given lecture video, apply EM algorithm to cluster the students into two classes with the following initial settings:\n",
    "\n",
    "Initial centers: c1 =(1,1,1,1,1,1), c2 = (0,0,0,0,0,0)\n",
    "\n",
    "Cluster features: frequency patterns for 6 given clickstream events: load_video,pause_video,\n",
    "play_video,\n",
    "\n",
    "seek_video, speed_change_video and stop_video, you can find them in Q2Q3_input.csv. You need to:\n",
    "\n",
    "  (a). Report the updated centers and SSE for the first two iterations.\n",
    "  \n",
    "  (b). Report the overall iteration step when your algorithm terminates\n",
    "  \n",
    "  (c). Report the final converged centers for each cluster.\n",
    "\n",
    "You need to submit:\n",
    "1. Your source code A3_itsc_stuid_Q2.xxx in a zip file named as A3_itsc_stuid_code.zip, and \n",
    "2. Report your result for (a)(b)(c) in A3_itsc_stuid_answer.pdf.\n",
    "\n",
    "Notes:\n",
    "\n",
    "1. Please use the terminate condition below:\n",
    "Terminate condition: the EM algorithm will terminate when: \n",
    "\n",
    "1) The sum of L1-distance for each pair of old-new center\n",
    "is smaller than 0.001, or\n",
    "\n",
    "$$\\newcommand\\norm[1]{\\left\\lVert#1\\right\\rVert}$$\n",
    "$$\\sum_{each center} \\norm{C_{old}-C_{new}}^1$$\n",
    "\n",
    "2) The iteration step is greater than the maxinum iteration step 50."
   ]
  },
  {
   "cell_type": "code",
   "execution_count": 71,
   "metadata": {},
   "outputs": [
    {
     "name": "stdout",
     "output_type": "stream",
     "text": [
      "Populating the interactive namespace from numpy and matplotlib\n"
     ]
    },
    {
     "name": "stderr",
     "output_type": "stream",
     "text": [
      "/Users/zkid18/anaconda2/lib/python2.7/site-packages/IPython/core/magics/pylab.py:161: UserWarning: pylab import has clobbered these variables: ['dist']\n",
      "`%matplotlib` prevents importing * from pylab and numpy\n",
      "  \"\\n`%matplotlib` prevents importing * from pylab and numpy\"\n"
     ]
    }
   ],
   "source": [
    "%matplotlib inline\n",
    "%pylab inline\n",
    "import pandas as pd\n",
    "import numpy as np\n",
    "import seaborn as sns\n",
    "import math"
   ]
  },
  {
   "cell_type": "markdown",
   "metadata": {},
   "source": [
    "## Read data from .csv"
   ]
  },
  {
   "cell_type": "code",
   "execution_count": 72,
   "metadata": {},
   "outputs": [],
   "source": [
    "data_input = pd.read_csv('Q2Q3_input.csv')"
   ]
  },
  {
   "cell_type": "markdown",
   "metadata": {},
   "source": [
    "Initialize initial centers and stopage criteria"
   ]
  },
  {
   "cell_type": "code",
   "execution_count": 73,
   "metadata": {
    "collapsed": true
   },
   "outputs": [],
   "source": [
    "c1 = np.array([1,1,1,1,1,1])\n",
    "c2 = np.array([0,0,0,0,0,0])\n",
    "stopage_criteria = 0.001"
   ]
  },
  {
   "cell_type": "code",
   "execution_count": 74,
   "metadata": {
    "collapsed": true
   },
   "outputs": [],
   "source": [
    "#Function to calculate distance between two centers\n",
    "def dist(c2, c1):\n",
    "    return np.linalg.norm(c2-c1)"
   ]
  },
  {
   "cell_type": "code",
   "execution_count": 75,
   "metadata": {
    "collapsed": true
   },
   "outputs": [],
   "source": [
    "#Function to calculate weight of object o in cluster 1\n",
    "def w_1(c1, c2, o):\n",
    "    return np.divide(np.square(dist(o,c2)),(np.square(dist(o,c2)) + np.square(dist(o,c1))))"
   ]
  },
  {
   "cell_type": "code",
   "execution_count": 76,
   "metadata": {
    "collapsed": true
   },
   "outputs": [],
   "source": [
    "#Function to calculate weight of object o in cluster 2\n",
    "def w_2(c1, c2, o):\n",
    "    return np.divide(np.square(dist(o,c1)),(np.square(dist(o,c2)) + np.square(dist(o,c1))))"
   ]
  },
  {
   "cell_type": "code",
   "execution_count": 77,
   "metadata": {},
   "outputs": [],
   "source": [
    "def SSE(c1,c2,w1,w2,data_input):\n",
    "    dist_c1 = data_input.apply(lambda row: dist(c1,row[features]), axis=1)\n",
    "    dist_c2 = data_input.apply(lambda row: dist(c2,row[features]), axis=1)\n",
    "    return np.sum(np.multiply(w1,np.square(dist_c1))) + np.sum(np.multiply(w2,np.square(dist_c2)))"
   ]
  },
  {
   "cell_type": "code",
   "execution_count": 78,
   "metadata": {
    "collapsed": true
   },
   "outputs": [],
   "source": [
    "#Function to calculate iteration similarity\n",
    "def measure_cluster(c_old, c_new):\n",
    "    similarity = []\n",
    "    for i in range(len(c_old)):\n",
    "        similarity.append(np.abs(c_new[i]-c_old[i]))\n",
    "    return np.sum(similarity)"
   ]
  },
  {
   "cell_type": "code",
   "execution_count": 79,
   "metadata": {
    "collapsed": true
   },
   "outputs": [],
   "source": [
    "#Save results to .txt file\n",
    "def save_to_txt(a,b,c):\n",
    "    text_file = open(\"A3_dchepenko_20478954_answer.txt\", \"w\")\n",
    "    text_file.write(\"Question a: \\n\\n\")\n",
    "    text_file.write(\"First iteration:\\n Updated centers:\\n c1 = {0},\\n c2 = {1}\\n SSE: {2}\\n\".format(a[\"1_iteration\"][0][0],a[\"1_iteration\"][0][1], a[\"1_iteration\"][1]))\n",
    "    text_file.write(\"Second iteration:\\n Updated centers:\\n c1 = {0},\\n c2 = {1}\\n SSE: {2}\\n\\n\".format(a[\"2_iteration\"][0][0],a[\"2_iteration\"][0][1], a[\"2_iteration\"][1]))\n",
    "    text_file.write(\"Question b: %s \\n\\n\" % b)\n",
    "    text_file.write(\"Question c: \\n\")\n",
    "    text_file.write(\"Final converged centers :\\n c1 = {0},\\n c2 = {1}\".format(c[0],c[1]))\n",
    "    text_file.close()"
   ]
  },
  {
   "cell_type": "code",
   "execution_count": 80,
   "metadata": {
    "collapsed": true
   },
   "outputs": [],
   "source": [
    "#Function to calculate EM algorithm\n",
    "def EM_algorithm(data_input, c1,c2):\n",
    "    features = data_input.columns[1:]\n",
    "    columns = [\"c1\", \"c2\"]\n",
    "    c_new = [c1, c2]\n",
    "    similarity = np.inf\n",
    "    epochs = 0\n",
    "    first_two_iteration_result = {}\n",
    "    while similarity > stopage_criteria:\n",
    "        iteration = pd.DataFrame(columns=columns)\n",
    "        c1 = c_new[0]\n",
    "        c2 = c_new[1]\n",
    "        \n",
    "        iteration.c1 = data_input.apply(lambda row: w_1(c1, c2, row[features]), axis=1)\n",
    "        iteration.c2 = data_input.apply(lambda row: w_2(c1, c2, row[features]), axis=1)\n",
    "    \n",
    "        new_c1 = np.divide(np.dot(np.square(iteration.c1),data_input[features]),np.sum(np.square(iteration.c1)))\n",
    "        new_c2 = np.divide(np.dot(np.square(iteration.c2),data_input[features]),np.sum(np.square(iteration.c2)))\n",
    "        \n",
    "        c_old = c_new\n",
    "        c_new = [new_c1, new_c2]\n",
    "        similarity = measure_cluster(c_old, c_new)\n",
    "        epochs +=1\n",
    "        if epochs <= 2:\n",
    "            sse = SSE(c1= c_new[0], c2= c_new[1], w1=iteration.c1, w2=iteration.c2, data_input=data_input)\n",
    "            first_two_iteration_result[str(epochs)+\"_iteration\"] = (c_new, sse)\n",
    "            \n",
    "    \n",
    "    return (first_two_iteration_result,epochs, c_new)"
   ]
  },
  {
   "cell_type": "markdown",
   "metadata": {},
   "source": [
    "## Clustering with EM algorithm"
   ]
  },
  {
   "cell_type": "code",
   "execution_count": 81,
   "metadata": {},
   "outputs": [],
   "source": [
    "a,b,c = EM_algorithm(data_input, c1,c2)"
   ]
  },
  {
   "cell_type": "code",
   "execution_count": 83,
   "metadata": {},
   "outputs": [],
   "source": [
    "save_to_txt(a,b,c)"
   ]
  }
 ],
 "metadata": {
  "kernelspec": {
   "display_name": "Python 2",
   "language": "python",
   "name": "python2"
  },
  "language_info": {
   "codemirror_mode": {
    "name": "ipython",
    "version": 2
   },
   "file_extension": ".py",
   "mimetype": "text/x-python",
   "name": "python",
   "nbconvert_exporter": "python",
   "pygments_lexer": "ipython2",
   "version": "2.7.13"
  }
 },
 "nbformat": 4,
 "nbformat_minor": 2
}
